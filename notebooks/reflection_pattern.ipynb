{
 "cells": [
  {
   "attachments": {},
   "cell_type": "markdown",
   "id": "e1bc453d-c8d3-4503-b3da-52120ad92c74",
   "metadata": {
    "tags": []
   },
   "source": [
    "# Reflection Pattern\n",
    "\n",
    "The first pattern we are going to implement is the **reflection pattern**. \n",
    "\n",
    "\n",
    "This pattern allows the LLM to reflect and critique its outputs, following the next steps:\n",
    "\n",
    "1. The LLM **generates** a candidate output. If you look at the diagram above, it happens inside the **\"Generate\"** box.\n",
    "2. The LLM **reflects** on the previous output, suggesting modifications, deletions, improvements to the writing style, etc.\n",
    "3. The LLM modifies the original output based on the reflections and another iteration begins ...\n",
    "\n",
    "**Now, we are going to build, from scratch, each step, so that you can truly understand how this pattern works.**"
   ]
  },
  {
   "cell_type": "markdown",
   "id": "7898c34d-de9a-4970-b7f4-3d86b69d45a7",
   "metadata": {},
   "source": [
    "## Generation Step"
   ]
  },
  {
   "cell_type": "markdown",
   "id": "031f6b07-4f99-46f6-a53c-ff242585cbad",
   "metadata": {},
   "source": [
    "The first thing we need to consider is:\n",
    "\n",
    "> What do we want to generate? A poem? An essay? Python code?\n",
    "\n",
    "For this example, I've decided to test the Python coding skills of Llama3 70B (that's the LLM we are going to use for all the tutorials). In particular, we are going to ask our LLM to code a famous sorting algorithm: **Merge Sort**. \n",
    "\n",
    "---\n",
    "\n",
    "<img src=\"../img/mergesort.png\" alt=\"Alt text\" width=\"500\"/>"
   ]
  },
  {
   "cell_type": "markdown",
   "id": "73f4d7b7-40bf-43b9-a626-2a11d5529ac8",
   "metadata": {},
   "source": [
    "### Groq Client and relevant imports"
   ]
  },
  {
   "cell_type": "code",
   "execution_count": 1,
   "id": "96731d2f-a079-4e41-9756-220f02d4ebd8",
   "metadata": {},
   "outputs": [],
   "source": [
    "import os\n",
    "from pprint import pprint\n",
    "from groq import Groq\n",
    "from dotenv import load_dotenv\n",
    "from IPython.display import display_markdown\n",
    "\n",
    "# Remember to load the environment variables. You should have the Groq API Key in there :)\n",
    "load_dotenv()\n",
    "\n",
    "client = Groq()"
   ]
  },
  {
   "cell_type": "markdown",
   "id": "e644a635-e035-44e2-8c25-cee0f2b56556",
   "metadata": {},
   "source": [
    "We will start the **\"generation\"** chat history with the system prompt, as we said before. In this case, let the LLM act like a Python \n",
    "programmer eager to receive feedback / critique by the user."
   ]
  },
  {
   "cell_type": "code",
   "execution_count": 2,
   "id": "12467256-c741-495a-9923-439c1fcf270d",
   "metadata": {},
   "outputs": [],
   "source": [
    "generation_chat_history = [\n",
    "    {\n",
    "        \"role\": \"system\",\n",
    "        \"content\": \"You are a Python programmer tasked with generating high quality Python code.\"\n",
    "        \"Your task is to Generate the best content possible for the user's request. If the user provides critique,\" \n",
    "        \"respond with a revised version of your previous attempt.\"\n",
    "    }\n",
    "]"
   ]
  },
  {
   "cell_type": "markdown",
   "id": "43149b4f-54db-455f-9d39-6ad2f5c52b94",
   "metadata": {},
   "source": [
    "Now, as the user, we are going to ask the LLM to generate an implementation of the **Merge Sort** algorithm. Just add a new message with the **user** role to the chat history."
   ]
  },
  {
   "cell_type": "code",
   "execution_count": 3,
   "id": "0742e7bd-4857-4ed1-a96b-37098d448bdd",
   "metadata": {},
   "outputs": [],
   "source": [
    "generation_chat_history.append(\n",
    "    {\n",
    "        \"role\": \"user\",\n",
    "        \"content\": \"Generate a Python implementation of the Merge Sort algorithm\"\n",
    "    }\n",
    ")"
   ]
  },
  {
   "cell_type": "markdown",
   "id": "4df1bffe-375f-4a9a-8433-e217eb94aea2",
   "metadata": {},
   "source": [
    "Let's generate the first version of the essay."
   ]
  },
  {
   "cell_type": "code",
   "execution_count": 4,
   "id": "ff984277-733c-4495-b7fd-0669393380b8",
   "metadata": {},
   "outputs": [],
   "source": [
    "mergesort_code = client.chat.completions.create(\n",
    "    messages=generation_chat_history,\n",
    "    model=\"llama3-70b-8192\"\n",
    ").choices[0].message.content\n",
    "\n",
    "generation_chat_history.append(\n",
    "    {\n",
    "        \"role\": \"assistant\",\n",
    "        \"content\": mergesort_code\n",
    "    }\n",
    ")"
   ]
  },
  {
   "cell_type": "code",
   "execution_count": 5,
   "id": "c03f208b-2234-4fd1-a02b-f4fff06c01a6",
   "metadata": {},
   "outputs": [
    {
     "data": {
      "text/markdown": [
       "Here is a Python implementation of the Merge Sort algorithm:\n",
       "```\n",
       "def merge_sort(arr):\n",
       "    \"\"\"\n",
       "    Sorts an array using the Merge Sort algorithm.\n",
       "\n",
       "    Time complexity: O(n log n)\n",
       "    Space complexity: O(n)\n",
       "\n",
       "    :param arr: The array to be sorted\n",
       "    :return: The sorted array\n",
       "    \"\"\"\n",
       "    if len(arr) <= 1:\n",
       "        return arr\n",
       "\n",
       "    mid = len(arr) // 2\n",
       "    left = arr[:mid]\n",
       "    right = arr[mid:]\n",
       "\n",
       "    left = merge_sort(left)\n",
       "    right = merge_sort(right)\n",
       "\n",
       "    return merge(left, right)\n",
       "\n",
       "\n",
       "def merge(left, right):\n",
       "    \"\"\"\n",
       "    Merges two sorted arrays into a single sorted array.\n",
       "\n",
       "    :param left: The first sorted array\n",
       "    :param right: The second sorted array\n",
       "    :return: The merged sorted array\n",
       "    \"\"\"\n",
       "    result = []\n",
       "    while len(left) > 0 and len(right) > 0:\n",
       "        if left[0] <= right[0]:\n",
       "            result.append(left.pop(0))\n",
       "        else:\n",
       "            result.append(right.pop(0))\n",
       "    result.extend(left)\n",
       "    result.extend(right)\n",
       "    return result\n",
       "```\n",
       "Here's an explanation of how the code works:\n",
       "\n",
       "1. The `merge_sort` function takes an array as input and recursively divides it into two halves until each half has only one element.\n",
       "2. The `merge` function takes two sorted arrays as input and merges them into a single sorted array.\n",
       "3. The `merge` function uses a temporary array `result` to store the merged elements.\n",
       "4. The `merge` function compares elements from both arrays and adds the smaller element to the `result` array.\n",
       "5. Once one of the input arrays is empty, the remaining elements from the other array are appended to the `result` array.\n",
       "6. The `merge_sort` function returns the sorted array by recursively calling itself on the divided halves and then merging the results.\n",
       "\n",
       "You can test the implementation using the following code:\n",
       "```\n",
       "arr = [5, 2, 8, 3, 1, 4, 6]\n",
       "arr = merge_sort(arr)\n",
       "print(arr)  # [1, 2, 3, 4, 5, 6, 8]\n",
       "```\n",
       "Let me know if you have any feedback or if you'd like me to revise anything!"
      ]
     },
     "metadata": {},
     "output_type": "display_data"
    }
   ],
   "source": [
    "display_markdown(mergesort_code, raw=True)"
   ]
  },
  {
   "cell_type": "markdown",
   "id": "6a04ebe5-0573-4520-a529-aff22d486b7d",
   "metadata": {},
   "source": [
    "## Reflection Step"
   ]
  },
  {
   "cell_type": "markdown",
   "id": "67aa69e4-632f-4a0c-a6f0-c5a7ced4849d",
   "metadata": {
    "tags": []
   },
   "source": [
    "Now, let's allow the LLM to reflect on its outputs by defining another system prompt. This system prompt will tell the LLM to act as Andrej Karpathy, computer scientist and Deep Learning wizard.\n",
    "\n"
   ]
  },
  {
   "cell_type": "code",
   "execution_count": 6,
   "id": "9d93c928-d585-48af-a74c-a5b8d84593c6",
   "metadata": {
    "tags": []
   },
   "outputs": [],
   "source": [
    "reflection_chat_history = [\n",
    "    {\n",
    "    \"role\": \"system\",\n",
    "    \"content\": \"You are Andrej Karpathy, an experienced computer scientist. You are tasked with generating critique and recommendations for the user's code\",\n",
    "    }\n",
    "]"
   ]
  },
  {
   "cell_type": "markdown",
   "id": "c498175f-b3f9-40af-92a3-d5b36d77d1cf",
   "metadata": {},
   "source": [
    "The user message, in this case,  is the essay generated in the previous step. We simply add the `mergesort_code` to the `reflection_chat_history`."
   ]
  },
  {
   "cell_type": "code",
   "execution_count": 7,
   "id": "26af1a73-4d91-40e8-a9bc-c34d32b2ab82",
   "metadata": {
    "tags": []
   },
   "outputs": [],
   "source": [
    "reflection_chat_history.append(\n",
    "    {\n",
    "        \"role\": \"user\",\n",
    "        \"content\": mergesort_code\n",
    "    }\n",
    ")"
   ]
  },
  {
   "cell_type": "markdown",
   "id": "bfa994c8-3612-47b0-9571-e21d0d73d896",
   "metadata": {},
   "source": [
    "Now, let's generate a critique to the Python code."
   ]
  },
  {
   "cell_type": "code",
   "execution_count": 8,
   "id": "40fee42f-d47a-41b1-a40d-7208ba76ce98",
   "metadata": {
    "tags": []
   },
   "outputs": [],
   "source": [
    "critique = client.chat.completions.create(\n",
    "    messages=reflection_chat_history,\n",
    "    model=\"llama3-70b-8192\"\n",
    ").choices[0].message.content"
   ]
  },
  {
   "cell_type": "code",
   "execution_count": 9,
   "id": "0fef3203-c7f1-407f-8b9b-4e8ae140a4cb",
   "metadata": {
    "tags": []
   },
   "outputs": [
    {
     "data": {
      "text/markdown": [
       "Overall, your implementation of the Merge Sort algorithm is correct and well-structured. Here are some minor suggestions for improvement and a few things to consider:\n",
       "\n",
       "1.  **Docstrings:** Your docstrings are helpful, but they could be more descriptive. Consider adding a brief explanation of how the Merge Sort algorithm works and what the functions do. This will make it easier for others to understand your code.\n",
       "\n",
       "2.  **Type Hints:** You're using Python, which has built-in support for type hints. Consider adding type hints for function parameters and return types to improve code readability and facilitate static type checking.\n",
       "\n",
       "3.  **Consistent Naming:** You're using both camelCase and underscore notation for variable and function names. Python's convention is to use underscore notation (e.g., `merge_sort` instead of `mergeSort`). Stick to this convention for consistency.\n",
       "\n",
       "4.  **Error Handling:** Your implementation doesn't handle edge cases such as non-list inputs or lists containing non-comparable elements. Consider adding input validation to handle these scenarios.\n",
       "\n",
       "5.  **Code Organization:** The `merge` function is tightly coupled to the `merge_sort` function. Consider making `merge` a nested function inside `merge_sort` to emphasize this relationship.\n",
       "\n",
       "Here's an updated version of your code incorporating these suggestions:\n",
       "\n",
       "```\n",
       "def merge_sort(arr: list) -> list:\n",
       "    \"\"\"\n",
       "    Sorts a list using the Merge Sort algorithm.\n",
       "\n",
       "    Time complexity: O(n log n)\n",
       "    Space complexity: O(n)\n",
       "\n",
       "    :param arr: The list to be sorted\n",
       "    :return: The sorted list\n",
       "    \"\"\"\n",
       "    if not isinstance(arr, list):\n",
       "        raise ValueError(\"Input must be a list\")\n",
       "\n",
       "    def merge(left: list, right: list) -> list:\n",
       "        \"\"\"\n",
       "        Merges two sorted lists into a single sorted list.\n",
       "\n",
       "        :param left: The first sorted list\n",
       "        :param right: The second sorted list\n",
       "        :return: The merged sorted list\n",
       "        \"\"\"\n",
       "        result = []\n",
       "        while len(left) > 0 and len(right) > 0:\n",
       "            if left[0] <= right[0]:\n",
       "                result.append(left.pop(0))\n",
       "            else:\n",
       "                result.append(right.pop(0))\n",
       "        result.extend(left)\n",
       "        result.extend(right)\n",
       "        return result\n",
       "\n",
       "    if len(arr) <= 1:\n",
       "        return arr\n",
       "\n",
       "    mid = len(arr) // 2\n",
       "    left = arr[:mid]\n",
       "    right = arr[mid:]\n",
       "\n",
       "    left = merge_sort(left)\n",
       "    right = merge_sort(right)\n",
       "\n",
       "    return merge(left, right)\n",
       "\n",
       "# Test the implementation\n",
       "arr = [5, 2, 8, 3, 1, 4, 6]\n",
       "arr = merge_sort(arr)\n",
       "print(arr)  # [1, 2, 3, 4, 5, 6, 8]\n",
       "```\n",
       "\n",
       "These changes improve code readability, maintainability, and robustness. However, the overall logic and correctness of your original implementation remain intact."
      ]
     },
     "metadata": {},
     "output_type": "display_data"
    }
   ],
   "source": [
    "display_markdown(critique, raw=True)"
   ]
  },
  {
   "cell_type": "markdown",
   "id": "5df433b0-d662-4378-895e-6b09dd3201bc",
   "metadata": {},
   "source": [
    "Finally, we just need to add this *critique* to the `generation_chat_history`, in this case, as the `user` role."
   ]
  },
  {
   "cell_type": "code",
   "execution_count": 10,
   "id": "27a85bb3-cf6a-4576-8caf-cd41e602a1f1",
   "metadata": {
    "tags": []
   },
   "outputs": [],
   "source": [
    "generation_chat_history.append(\n",
    "    {\n",
    "        \"role\": \"user\",\n",
    "        \"content\": critique\n",
    "    }\n",
    ")"
   ]
  },
  {
   "cell_type": "markdown",
   "id": "c3c1aefa-8454-41ab-af40-2675f340a577",
   "metadata": {},
   "source": [
    "## Generation Step (II)"
   ]
  },
  {
   "cell_type": "code",
   "execution_count": 11,
   "id": "91d845cf-51c3-4cfd-b6a7-1b970413f6db",
   "metadata": {
    "tags": []
   },
   "outputs": [],
   "source": [
    "essay = client.chat.completions.create(\n",
    "    messages=generation_chat_history,\n",
    "    model=\"llama3-70b-8192\"\n",
    ").choices[0].message.content"
   ]
  },
  {
   "cell_type": "code",
   "execution_count": 12,
   "id": "ef14eaa8-f501-4efc-997f-8564ec8dccd8",
   "metadata": {
    "tags": []
   },
   "outputs": [
    {
     "data": {
      "text/markdown": [
       "Thank you for the detailed feedback! I'm glad to hear that my implementation was correct and well-structured.\n",
       "\n",
       "You're absolutely right about the suggestions you made. Here's a revised version of the code that incorporates your feedback:\n",
       "\n",
       "```\n",
       "def merge_sort(arr: list) -> list:\n",
       "    \"\"\"\n",
       "    Sorts a list using the Merge Sort algorithm.\n",
       "\n",
       "    The Merge Sort algorithm is a divide-and-conquer algorithm that splits an unsorted list into n sublists, each containing one element, \n",
       "    and then repeatedly merges sublists to produce new sorted sublists until there is only one sublist remaining. \n",
       "\n",
       "    Time complexity: O(n log n)\n",
       "    Space complexity: O(n)\n",
       "\n",
       "    :param arr: The list to be sorted\n",
       "    :return: The sorted list\n",
       "    \"\"\"\n",
       "    if not isinstance(arr, list):\n",
       "        raise ValueError(\"Input must be a list\")\n",
       "\n",
       "    def merge(left: list, right: list) -> list:\n",
       "        \"\"\"\n",
       "        Merges two sorted lists into a single sorted list.\n",
       "\n",
       "        :param left: The first sorted list\n",
       "        :param right: The second sorted list\n",
       "        :return: The merged sorted list\n",
       "        \"\"\"\n",
       "        result = []\n",
       "        while len(left) > 0 and len(right) > 0:\n",
       "            if left[0] <= right[0]:\n",
       "                result.append(left.pop(0))\n",
       "            else:\n",
       "                result.append(right.pop(0))\n",
       "        result.extend(left)\n",
       "        result.extend(right)\n",
       "        return result\n",
       "\n",
       "    if len(arr) <= 1:\n",
       "        return arr\n",
       "\n",
       "    mid = len(arr) // 2\n",
       "    left = arr[:mid]\n",
       "    right = arr[mid:]\n",
       "\n",
       "    left = merge_sort(left)\n",
       "    right = merge_sort(right)\n",
       "\n",
       "    return merge(left, right)\n",
       "\n",
       "# Test the implementation\n",
       "arr = [5, 2, 8, 3, 1, 4, 6]\n",
       "arr = merge_sort(arr)\n",
       "print(arr)  # [1, 2, 3, 4, 5, 6, 8]\n",
       "```\n",
       "\n",
       "I've made the following changes:\n",
       "\n",
       "*   Added more descriptive docstrings to explain the Merge Sort algorithm and the purpose of each function.\n",
       "*   Added type hints for function parameters and return types to improve code readability and facilitate static type checking.\n",
       "*   Consistently used underscore notation for variable and function names to follow Python's convention.\n",
       "*   Added input validation to handle edge cases such as non-list inputs.\n",
       "*   Made the `merge` function a nested function inside `merge_sort` to emphasize its relationship with the main function.\n",
       "\n",
       "Thank you again for your feedback! I'll keep these suggestions in mind to improve my code quality."
      ]
     },
     "metadata": {},
     "output_type": "display_data"
    }
   ],
   "source": [
    "display_markdown(essay, raw=True)"
   ]
  },
  {
   "cell_type": "markdown",
   "id": "75883af2-f31d-4c24-b1ff-315a0711f9fa",
   "metadata": {},
   "source": [
    "## And the iteration starts again ..."
   ]
  },
  {
   "cell_type": "markdown",
   "id": "a5b824d1-c17e-448c-bdd7-df543aa5a9fd",
   "metadata": {},
   "source": [
    "After **Generation Step (II)** the corrected Python code will be received, once again, by Karpathy. Then, the LLM will reflect on the corrected output, suggesting further improvements and the loop will go, over and over for a number **n** of total iterations.\n",
    "\n",
    "> There's another possibility. Suppose the Reflection step can't find any further improvement. In this case, we can tell the LLM to output some stop string, like \"OK\" or \"Good\" that means the process can be stopped. However, we are going to follow the first approach, that is, iterating for a fixed number of times."
   ]
  },
  {
   "cell_type": "markdown",
   "id": "7cf2cf5b-d083-435c-914a-3ff484d53473",
   "metadata": {},
   "source": [
    "## Implementing a class "
   ]
  },
  {
   "cell_type": "markdown",
   "id": "15f9a9e6-29f3-4adf-863e-c49fbb9a6b44",
   "metadata": {},
   "source": [
    "Now that you understand the underlying loop of the Reflection Agent, let's implement this agent as a class."
   ]
  },
  {
   "cell_type": "code",
   "execution_count": 13,
   "id": "3f904241-29a1-4519-b6ab-15be0a7cfc53",
   "metadata": {},
   "outputs": [],
   "source": [
    "from agentic_patterns import ReflectionAgent"
   ]
  },
  {
   "cell_type": "code",
   "execution_count": 14,
   "id": "dd1a8071-c763-4dbf-8db7-60f9116f62e8",
   "metadata": {},
   "outputs": [],
   "source": [
    "agent = ReflectionAgent()"
   ]
  },
  {
   "cell_type": "code",
   "execution_count": 15,
   "id": "87c8cf16-0dfa-49b6-bc30-8f14bbe7860a",
   "metadata": {},
   "outputs": [],
   "source": [
    "generation_system_prompt = \"You are a Python programmer tasked with generating high quality Python code\"\n",
    "\n",
    "reflection_system_prompt = \"You are Andrej Karpathy, an experienced computer scientist\"\n",
    "\n",
    "user_msg = \"Generate a Python implementation of the Merge Sort algorithm\""
   ]
  },
  {
   "cell_type": "code",
   "execution_count": 16,
   "id": "6a9a3e5b-9b45-4a27-b391-f78b57ff94f1",
   "metadata": {},
   "outputs": [
    {
     "name": "stdout",
     "output_type": "stream",
     "text": [
      "\u001b[1m\u001b[36m\n",
      "==================================================\n",
      "\u001b[35mSTEP 1/10\n",
      "\u001b[1m\u001b[36m==================================================\n",
      "\n",
      "\u001b[34m \n",
      "\n",
      "GENERATION\n",
      "\n",
      " **Merge Sort Algorithm Implementation in Python**\n",
      "=====================================================\n",
      "\n",
      "### Overview\n",
      "\n",
      "Merge sort is a divide-and-conquer algorithm that splits a list of elements into two halves, recursively sorts each half, and then merges the two sorted halves.\n",
      "\n",
      "### Code\n",
      "\n",
      "```python\n",
      "def merge_sort(arr):\n",
      "    \"\"\"\n",
      "    Sorts an array using the Merge Sort algorithm.\n",
      "\n",
      "    Args:\n",
      "        arr (list): The input list to be sorted.\n",
      "\n",
      "    Returns:\n",
      "        list: The sorted list.\n",
      "    \"\"\"\n",
      "    # Base case: If the array has 1 or 0 elements, it's already sorted.\n",
      "    if len(arr) <= 1:\n",
      "        return arr\n",
      "\n",
      "    # Divide the array into two halves.\n",
      "    mid = len(arr) // 2\n",
      "    left_half = arr[:mid]\n",
      "    right_half = arr[mid:]\n",
      "\n",
      "    # Recursively sort each half.\n",
      "    left_half = merge_sort(left_half)\n",
      "    right_half = merge_sort(right_half)\n",
      "\n",
      "    # Merge the two sorted halves.\n",
      "    return merge(left_half, right_half)\n",
      "\n",
      "\n",
      "def merge(left, right):\n",
      "    \"\"\"\n",
      "    Merges two sorted lists into a single sorted list.\n",
      "\n",
      "    Args:\n",
      "        left (list): The first sorted list.\n",
      "        right (list): The second sorted list.\n",
      "\n",
      "    Returns:\n",
      "        list: The merged sorted list.\n",
      "    \"\"\"\n",
      "    merged = []\n",
      "    left_index = 0\n",
      "    right_index = 0\n",
      "\n",
      "    # Merge smaller elements first.\n",
      "    while left_index < len(left) and right_index < len(right):\n",
      "        if left[left_index] <= right[right_index]:\n",
      "            merged.append(left[left_index])\n",
      "            left_index += 1\n",
      "        else:\n",
      "            merged.append(right[right_index])\n",
      "            right_index += 1\n",
      "\n",
      "    # Append any remaining elements from either list.\n",
      "    merged.extend(left[left_index:])\n",
      "    merged.extend(right[right_index:])\n",
      "\n",
      "    return merged\n",
      "\n",
      "\n",
      "# Example usage\n",
      "if __name__ == \"__main__\":\n",
      "    arr = [64, 34, 25, 12, 22, 11, 90]\n",
      "    sorted_arr = merge_sort(arr)\n",
      "    print(\"Original array:\", arr)\n",
      "    print(\"Sorted array:\", sorted_arr)\n",
      "```\n",
      "\n",
      "### Explanation\n",
      "\n",
      "1.  The `merge_sort` function takes an input list and recursively divides it into two halves until each half contains only one element.\n",
      "2.  The `merge` function merges two sorted lists by comparing elements and adding the smaller one to the result list.\n",
      "3.  The sorted halves are then merged to form the final sorted list.\n",
      "\n",
      "### Time Complexity\n",
      "\n",
      "*   Best-case: O(n log n)\n",
      "*   Average-case: O(n log n)\n",
      "*   Worst-case: O(n log n)\n",
      "\n",
      "### Space Complexity\n",
      "\n",
      "*   O(n) for the recursive call stack and temporary arrays used in the merge process.\n",
      "\n",
      "This implementation provides a clean and efficient way to sort lists using the Merge Sort algorithm. It's suitable for large datasets and has a predictable time complexity, making it a reliable choice for various applications.\n",
      "\u001b[32m \n",
      "\n",
      "REFLECTION\n",
      "\n",
      " The provided implementation of the Merge Sort algorithm in Python is well-structured, readable, and efficient. However, there are some minor improvements and considerations that can be suggested:\n",
      "\n",
      "### Critiques and Recommendations\n",
      "\n",
      "1. **Input Validation**: The `merge_sort` function does not validate its input. It assumes that the input will always be a list. Consider adding a check to ensure that the input is indeed a list and raise a `TypeError` if it's not.\n",
      "2. **Type Hinting**: The function parameters and return types can be annotated with type hints to improve code readability and enable static type checking.\n",
      "3. **Docstring**: While the docstring for the `merge_sort` function is good, it can be improved by adding a brief description of the Merge Sort algorithm and its time complexity.\n",
      "4. **Testing**: The example usage in the `if __name__ == \"__main__\":` block is a good start, but it's not a comprehensive test suite. Consider adding more test cases to cover different scenarios, such as empty lists, lists with duplicate elements, and lists with negative numbers.\n",
      "5. **Error Handling**: The `merge` function does not handle any potential errors that might occur during the merge process. Consider adding try-except blocks to handle any exceptions that might be raised.\n",
      "6. **Code Organization**: The code is well-organized, but it might be beneficial to separate the `merge` function into its own module or file to improve reusability and modularity.\n",
      "7. **Performance**: The current implementation has a time complexity of O(n log n), which is optimal for the Merge Sort algorithm. However, the space complexity can be improved by using an in-place merge approach, which would reduce the space complexity to O(log n).\n",
      "\n",
      "Overall, the implementation is well-done, and with these minor improvements, it can become even more robust, efficient, and maintainable.\n",
      "\n",
      "Here's an updated version of the code incorporating some of these recommendations:\n",
      "\n",
      "```python\n",
      "def merge_sort(arr: list) -> list:\n",
      "    \"\"\"\n",
      "    Sorts an array using the Merge Sort algorithm.\n",
      "\n",
      "    The Merge Sort algorithm is a divide-and-conquer algorithm that splits a list of elements into two halves,\n",
      "    recursively sorts each half, and then merges the two sorted halves.\n",
      "\n",
      "    Args:\n",
      "        arr (list): The input list to be sorted.\n",
      "\n",
      "    Returns:\n",
      "        list: The sorted list.\n",
      "\n",
      "    Time Complexity:\n",
      "        O(n log n)\n",
      "\n",
      "    Space Complexity:\n",
      "        O(n)\n",
      "    \"\"\"\n",
      "    if not isinstance(arr, list):\n",
      "        raise TypeError(\"Input must be a list\")\n",
      "\n",
      "    # Base case: If the array has 1 or 0 elements, it's already sorted.\n",
      "    if len(arr) <= 1:\n",
      "        return arr\n",
      "\n",
      "    # Divide the array into two halves.\n",
      "    mid = len(arr) // 2\n",
      "    left_half = arr[:mid]\n",
      "    right_half = arr[mid:]\n",
      "\n",
      "    # Recursively sort each half.\n",
      "    left_half = merge_sort(left_half)\n",
      "    right_half = merge_sort(right_half)\n",
      "\n",
      "    # Merge the two sorted halves.\n",
      "    return merge(left_half, right_half)\n",
      "\n",
      "\n",
      "def merge(left: list, right: list) -> list:\n",
      "    \"\"\"\n",
      "    Merges two sorted lists into a single sorted list.\n",
      "\n",
      "    Args:\n",
      "        left (list): The first sorted list.\n",
      "        right (list): The second sorted list.\n",
      "\n",
      "    Returns:\n",
      "        list: The merged sorted list.\n",
      "    \"\"\"\n",
      "    merged = []\n",
      "    left_index = 0\n",
      "    right_index = 0\n",
      "\n",
      "    # Merge smaller elements first.\n",
      "    while left_index < len(left) and right_index < len(right):\n",
      "        if left[left_index] <= right[right_index]:\n",
      "            merged.append(left[left_index])\n",
      "            left_index += 1\n",
      "        else:\n",
      "            merged.append(right[right_index])\n",
      "            right_index += 1\n",
      "\n",
      "    # Append any remaining elements from either list.\n",
      "    merged.extend(left[left_index:])\n",
      "    merged.extend(right[right_index:])\n",
      "\n",
      "    return merged\n",
      "\n",
      "\n",
      "# Example usage\n",
      "if __name__ == \"__main__\":\n",
      "    import unittest\n",
      "\n",
      "    class TestMergeSort(unittest.TestCase):\n",
      "        def test_empty_list(self):\n",
      "            self.assertEqual(merge_sort([]), [])\n",
      "\n",
      "        def test_single_element_list(self):\n",
      "            self.assertEqual(merge_sort([5]), [5])\n",
      "\n",
      "        def test_sorted_list(self):\n",
      "            self.assertEqual(merge_sort([1, 2, 3, 4, 5]), [1, 2, 3, 4, 5])\n",
      "\n",
      "        def test_unsorted_list(self):\n",
      "            self.assertEqual(merge_sort([64, 34, 25, 12, 22, 11, 90]), [11, 12, 22, 25, 34, 64, 90])\n",
      "\n",
      "    unittest.main()\n",
      "```\n",
      "\n",
      "Since there are improvements to be made, the output is not `<OK>`.\n",
      "\u001b[31m \n",
      "\n",
      "Stop Sequence found. Stopping the reflection loop ... \n",
      "\n",
      "\n"
     ]
    }
   ],
   "source": [
    "final_response = agent.run(\n",
    "    user_msg=user_msg,\n",
    "    generation_system_prompt=generation_system_prompt,\n",
    "    reflection_system_prompt=reflection_system_prompt,\n",
    "    n_steps=10,\n",
    "    verbose=1,\n",
    ")"
   ]
  },
  {
   "cell_type": "markdown",
   "id": "4b69d182-d12e-40bb-8dfb-cbc8903218a1",
   "metadata": {},
   "source": [
    "## Final result"
   ]
  },
  {
   "cell_type": "code",
   "execution_count": 17,
   "id": "6e4663cd-61dd-4a38-866a-f032045a444a",
   "metadata": {},
   "outputs": [
    {
     "data": {
      "text/markdown": [
       "**Merge Sort Algorithm Implementation in Python**\n",
       "=====================================================\n",
       "\n",
       "### Overview\n",
       "\n",
       "Merge sort is a divide-and-conquer algorithm that splits a list of elements into two halves, recursively sorts each half, and then merges the two sorted halves.\n",
       "\n",
       "### Code\n",
       "\n",
       "```python\n",
       "def merge_sort(arr):\n",
       "    \"\"\"\n",
       "    Sorts an array using the Merge Sort algorithm.\n",
       "\n",
       "    Args:\n",
       "        arr (list): The input list to be sorted.\n",
       "\n",
       "    Returns:\n",
       "        list: The sorted list.\n",
       "    \"\"\"\n",
       "    # Base case: If the array has 1 or 0 elements, it's already sorted.\n",
       "    if len(arr) <= 1:\n",
       "        return arr\n",
       "\n",
       "    # Divide the array into two halves.\n",
       "    mid = len(arr) // 2\n",
       "    left_half = arr[:mid]\n",
       "    right_half = arr[mid:]\n",
       "\n",
       "    # Recursively sort each half.\n",
       "    left_half = merge_sort(left_half)\n",
       "    right_half = merge_sort(right_half)\n",
       "\n",
       "    # Merge the two sorted halves.\n",
       "    return merge(left_half, right_half)\n",
       "\n",
       "\n",
       "def merge(left, right):\n",
       "    \"\"\"\n",
       "    Merges two sorted lists into a single sorted list.\n",
       "\n",
       "    Args:\n",
       "        left (list): The first sorted list.\n",
       "        right (list): The second sorted list.\n",
       "\n",
       "    Returns:\n",
       "        list: The merged sorted list.\n",
       "    \"\"\"\n",
       "    merged = []\n",
       "    left_index = 0\n",
       "    right_index = 0\n",
       "\n",
       "    # Merge smaller elements first.\n",
       "    while left_index < len(left) and right_index < len(right):\n",
       "        if left[left_index] <= right[right_index]:\n",
       "            merged.append(left[left_index])\n",
       "            left_index += 1\n",
       "        else:\n",
       "            merged.append(right[right_index])\n",
       "            right_index += 1\n",
       "\n",
       "    # Append any remaining elements from either list.\n",
       "    merged.extend(left[left_index:])\n",
       "    merged.extend(right[right_index:])\n",
       "\n",
       "    return merged\n",
       "\n",
       "\n",
       "# Example usage\n",
       "if __name__ == \"__main__\":\n",
       "    arr = [64, 34, 25, 12, 22, 11, 90]\n",
       "    sorted_arr = merge_sort(arr)\n",
       "    print(\"Original array:\", arr)\n",
       "    print(\"Sorted array:\", sorted_arr)\n",
       "```\n",
       "\n",
       "### Explanation\n",
       "\n",
       "1.  The `merge_sort` function takes an input list and recursively divides it into two halves until each half contains only one element.\n",
       "2.  The `merge` function merges two sorted lists by comparing elements and adding the smaller one to the result list.\n",
       "3.  The sorted halves are then merged to form the final sorted list.\n",
       "\n",
       "### Time Complexity\n",
       "\n",
       "*   Best-case: O(n log n)\n",
       "*   Average-case: O(n log n)\n",
       "*   Worst-case: O(n log n)\n",
       "\n",
       "### Space Complexity\n",
       "\n",
       "*   O(n) for the recursive call stack and temporary arrays used in the merge process.\n",
       "\n",
       "This implementation provides a clean and efficient way to sort lists using the Merge Sort algorithm. It's suitable for large datasets and has a predictable time complexity, making it a reliable choice for various applications."
      ]
     },
     "metadata": {},
     "output_type": "display_data"
    }
   ],
   "source": [
    "display_markdown(final_response, raw=True)"
   ]
  },
  {
   "cell_type": "code",
   "execution_count": null,
   "id": "6e686e12",
   "metadata": {},
   "outputs": [],
   "source": []
  }
 ],
 "metadata": {
  "kernelspec": {
   "display_name": "my_agent_env",
   "language": "python",
   "name": "python3"
  },
  "language_info": {
   "codemirror_mode": {
    "name": "ipython",
    "version": 3
   },
   "file_extension": ".py",
   "mimetype": "text/x-python",
   "name": "python",
   "nbconvert_exporter": "python",
   "pygments_lexer": "ipython3",
   "version": "3.11.11"
  }
 },
 "nbformat": 4,
 "nbformat_minor": 5
}
